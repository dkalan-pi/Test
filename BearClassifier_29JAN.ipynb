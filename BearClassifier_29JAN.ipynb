{
  "nbformat": 4,
  "nbformat_minor": 0,
  "metadata": {
    "colab": {
      "name": "BearClassifier.ipynb",
      "provenance": [],
      "collapsed_sections": [],
      "include_colab_link": true
    },
    "kernelspec": {
      "name": "python3",
      "display_name": "Python 3"
    },
    "language_info": {
      "name": "python"
    },
    "accelerator": "GPU",
    "widgets": {
      "application/vnd.jupyter.widget-state+json": {
        "11399dd0e99749f8a3d0db0fc13930a0": {
          "model_module": "@jupyter-widgets/controls",
          "model_name": "FileUploadModel",
          "model_module_version": "1.5.0",
          "state": {
            "_view_name": "FileUploadView",
            "_counter": 1,
            "style": "IPY_MODEL_c2479c4bb2db4051ab58deefab435648",
            "_dom_classes": [],
            "description": "Upload",
            "multiple": false,
            "_model_name": "FileUploadModel",
            "data": [
              null
            ],
            "button_style": "",
            "_view_module": "@jupyter-widgets/controls",
            "_model_module_version": "1.5.0",
            "accept": "",
            "_view_count": null,
            "disabled": false,
            "_view_module_version": "1.5.0",
            "error": "",
            "description_tooltip": null,
            "metadata": [
              {
                "name": "image001.jpg",
                "type": "image/jpeg",
                "size": 2375,
                "lastModified": 1643040193782
              }
            ],
            "_model_module": "@jupyter-widgets/controls",
            "layout": "IPY_MODEL_07b782d0eb824bf1ad4e4437a21a6b80",
            "icon": "upload"
          }
        },
        "c2479c4bb2db4051ab58deefab435648": {
          "model_module": "@jupyter-widgets/controls",
          "model_name": "ButtonStyleModel",
          "model_module_version": "1.5.0",
          "state": {
            "_view_name": "StyleView",
            "_model_name": "ButtonStyleModel",
            "_view_module": "@jupyter-widgets/base",
            "_model_module_version": "1.5.0",
            "_view_count": null,
            "button_color": null,
            "font_weight": "",
            "_view_module_version": "1.2.0",
            "_model_module": "@jupyter-widgets/controls"
          }
        },
        "07b782d0eb824bf1ad4e4437a21a6b80": {
          "model_module": "@jupyter-widgets/base",
          "model_name": "LayoutModel",
          "model_module_version": "1.2.0",
          "state": {
            "_view_name": "LayoutView",
            "grid_template_rows": null,
            "right": null,
            "justify_content": null,
            "_view_module": "@jupyter-widgets/base",
            "overflow": null,
            "_model_module_version": "1.2.0",
            "_view_count": null,
            "flex_flow": null,
            "width": null,
            "min_width": null,
            "border": null,
            "align_items": null,
            "bottom": null,
            "_model_module": "@jupyter-widgets/base",
            "top": null,
            "grid_column": null,
            "overflow_y": null,
            "overflow_x": null,
            "grid_auto_flow": null,
            "grid_area": null,
            "grid_template_columns": null,
            "flex": null,
            "_model_name": "LayoutModel",
            "justify_items": null,
            "grid_row": null,
            "max_height": null,
            "align_content": null,
            "visibility": null,
            "align_self": null,
            "height": null,
            "min_height": null,
            "padding": null,
            "grid_auto_rows": null,
            "grid_gap": null,
            "max_width": null,
            "order": null,
            "_view_module_version": "1.2.0",
            "grid_template_areas": null,
            "object_position": null,
            "object_fit": null,
            "grid_auto_columns": null,
            "margin": null,
            "display": null,
            "left": null
          }
        },
        "b147a30e4e8c46059b551362cc0bc420": {
          "model_module": "@jupyter-widgets/output",
          "model_name": "OutputModel",
          "model_module_version": "1.0.0",
          "state": {
            "_view_name": "OutputView",
            "msg_id": "",
            "_dom_classes": [],
            "_model_name": "OutputModel",
            "outputs": [
              {
                "output_type": "display_data",
                "data": {
                  "image/png": "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\n",
                  "text/plain": "<PIL.Image.Image image mode=RGB size=96x128 at 0x7F60A79C9B90>"
                },
                "metadata": {}
              }
            ],
            "_view_module": "@jupyter-widgets/output",
            "_model_module_version": "1.0.0",
            "_view_count": null,
            "_view_module_version": "1.0.0",
            "layout": "IPY_MODEL_77278507f7614c83b58aa96591cb9100",
            "_model_module": "@jupyter-widgets/output"
          }
        },
        "77278507f7614c83b58aa96591cb9100": {
          "model_module": "@jupyter-widgets/base",
          "model_name": "LayoutModel",
          "model_module_version": "1.2.0",
          "state": {
            "_view_name": "LayoutView",
            "grid_template_rows": null,
            "right": null,
            "justify_content": null,
            "_view_module": "@jupyter-widgets/base",
            "overflow": null,
            "_model_module_version": "1.2.0",
            "_view_count": null,
            "flex_flow": null,
            "width": null,
            "min_width": null,
            "border": null,
            "align_items": null,
            "bottom": null,
            "_model_module": "@jupyter-widgets/base",
            "top": null,
            "grid_column": null,
            "overflow_y": null,
            "overflow_x": null,
            "grid_auto_flow": null,
            "grid_area": null,
            "grid_template_columns": null,
            "flex": null,
            "_model_name": "LayoutModel",
            "justify_items": null,
            "grid_row": null,
            "max_height": null,
            "align_content": null,
            "visibility": null,
            "align_self": null,
            "height": null,
            "min_height": null,
            "padding": null,
            "grid_auto_rows": null,
            "grid_gap": null,
            "max_width": null,
            "order": null,
            "_view_module_version": "1.2.0",
            "grid_template_areas": null,
            "object_position": null,
            "object_fit": null,
            "grid_auto_columns": null,
            "margin": null,
            "display": null,
            "left": null
          }
        },
        "5344bbe208844e4eb7a123cdd38fd3bd": {
          "model_module": "@jupyter-widgets/controls",
          "model_name": "LabelModel",
          "model_module_version": "1.5.0",
          "state": {
            "_view_name": "LabelView",
            "style": "IPY_MODEL_f0f1d4f62dc547b1803a2d3dcec12f91",
            "_dom_classes": [],
            "description": "",
            "_model_name": "LabelModel",
            "placeholder": "​",
            "_view_module": "@jupyter-widgets/controls",
            "_model_module_version": "1.5.0",
            "value": "Prediction: teddy; Probability: 1.0000",
            "_view_count": null,
            "_view_module_version": "1.5.0",
            "description_tooltip": null,
            "_model_module": "@jupyter-widgets/controls",
            "layout": "IPY_MODEL_434d149d6c904f2da192dc79d02214dd"
          }
        },
        "f0f1d4f62dc547b1803a2d3dcec12f91": {
          "model_module": "@jupyter-widgets/controls",
          "model_name": "DescriptionStyleModel",
          "model_module_version": "1.5.0",
          "state": {
            "_view_name": "StyleView",
            "_model_name": "DescriptionStyleModel",
            "description_width": "",
            "_view_module": "@jupyter-widgets/base",
            "_model_module_version": "1.5.0",
            "_view_count": null,
            "_view_module_version": "1.2.0",
            "_model_module": "@jupyter-widgets/controls"
          }
        },
        "434d149d6c904f2da192dc79d02214dd": {
          "model_module": "@jupyter-widgets/base",
          "model_name": "LayoutModel",
          "model_module_version": "1.2.0",
          "state": {
            "_view_name": "LayoutView",
            "grid_template_rows": null,
            "right": null,
            "justify_content": null,
            "_view_module": "@jupyter-widgets/base",
            "overflow": null,
            "_model_module_version": "1.2.0",
            "_view_count": null,
            "flex_flow": null,
            "width": null,
            "min_width": null,
            "border": null,
            "align_items": null,
            "bottom": null,
            "_model_module": "@jupyter-widgets/base",
            "top": null,
            "grid_column": null,
            "overflow_y": null,
            "overflow_x": null,
            "grid_auto_flow": null,
            "grid_area": null,
            "grid_template_columns": null,
            "flex": null,
            "_model_name": "LayoutModel",
            "justify_items": null,
            "grid_row": null,
            "max_height": null,
            "align_content": null,
            "visibility": null,
            "align_self": null,
            "height": null,
            "min_height": null,
            "padding": null,
            "grid_auto_rows": null,
            "grid_gap": null,
            "max_width": null,
            "order": null,
            "_view_module_version": "1.2.0",
            "grid_template_areas": null,
            "object_position": null,
            "object_fit": null,
            "grid_auto_columns": null,
            "margin": null,
            "display": null,
            "left": null
          }
        },
        "80b7e35f5edf46d59458f582e3385e5c": {
          "model_module": "@jupyter-widgets/controls",
          "model_name": "ButtonModel",
          "model_module_version": "1.5.0",
          "state": {
            "_view_name": "ButtonView",
            "style": "IPY_MODEL_5400b839469f4669b573f22397b55849",
            "_dom_classes": [],
            "description": "Classify",
            "_model_name": "ButtonModel",
            "button_style": "",
            "_view_module": "@jupyter-widgets/controls",
            "_model_module_version": "1.5.0",
            "tooltip": "",
            "_view_count": null,
            "disabled": false,
            "_view_module_version": "1.5.0",
            "layout": "IPY_MODEL_000ad94d3f7644dbaead79ba3e97d4f6",
            "_model_module": "@jupyter-widgets/controls",
            "icon": ""
          }
        },
        "5400b839469f4669b573f22397b55849": {
          "model_module": "@jupyter-widgets/controls",
          "model_name": "ButtonStyleModel",
          "model_module_version": "1.5.0",
          "state": {
            "_view_name": "StyleView",
            "_model_name": "ButtonStyleModel",
            "_view_module": "@jupyter-widgets/base",
            "_model_module_version": "1.5.0",
            "_view_count": null,
            "button_color": null,
            "font_weight": "",
            "_view_module_version": "1.2.0",
            "_model_module": "@jupyter-widgets/controls"
          }
        },
        "000ad94d3f7644dbaead79ba3e97d4f6": {
          "model_module": "@jupyter-widgets/base",
          "model_name": "LayoutModel",
          "model_module_version": "1.2.0",
          "state": {
            "_view_name": "LayoutView",
            "grid_template_rows": null,
            "right": null,
            "justify_content": null,
            "_view_module": "@jupyter-widgets/base",
            "overflow": null,
            "_model_module_version": "1.2.0",
            "_view_count": null,
            "flex_flow": null,
            "width": null,
            "min_width": null,
            "border": null,
            "align_items": null,
            "bottom": null,
            "_model_module": "@jupyter-widgets/base",
            "top": null,
            "grid_column": null,
            "overflow_y": null,
            "overflow_x": null,
            "grid_auto_flow": null,
            "grid_area": null,
            "grid_template_columns": null,
            "flex": null,
            "_model_name": "LayoutModel",
            "justify_items": null,
            "grid_row": null,
            "max_height": null,
            "align_content": null,
            "visibility": null,
            "align_self": null,
            "height": null,
            "min_height": null,
            "padding": null,
            "grid_auto_rows": null,
            "grid_gap": null,
            "max_width": null,
            "order": null,
            "_view_module_version": "1.2.0",
            "grid_template_areas": null,
            "object_position": null,
            "object_fit": null,
            "grid_auto_columns": null,
            "margin": null,
            "display": null,
            "left": null
          }
        },
        "41d1f9583bc54443a724c9b3ce4cb229": {
          "model_module": "@jupyter-widgets/controls",
          "model_name": "VBoxModel",
          "model_module_version": "1.5.0",
          "state": {
            "_view_name": "VBoxView",
            "_dom_classes": [],
            "_model_name": "VBoxModel",
            "_view_module": "@jupyter-widgets/controls",
            "_model_module_version": "1.5.0",
            "_view_count": null,
            "_view_module_version": "1.5.0",
            "box_style": "",
            "layout": "IPY_MODEL_da944a1d610b4316bea295eae9fee8e6",
            "_model_module": "@jupyter-widgets/controls",
            "children": [
              "IPY_MODEL_1da2bc6d6b434e8bac9189416b0291da",
              "IPY_MODEL_264705d87f5a445989bac5234eab5884",
              "IPY_MODEL_80b7e35f5edf46d59458f582e3385e5c",
              "IPY_MODEL_b147a30e4e8c46059b551362cc0bc420",
              "IPY_MODEL_5344bbe208844e4eb7a123cdd38fd3bd"
            ]
          }
        },
        "da944a1d610b4316bea295eae9fee8e6": {
          "model_module": "@jupyter-widgets/base",
          "model_name": "LayoutModel",
          "model_module_version": "1.2.0",
          "state": {
            "_view_name": "LayoutView",
            "grid_template_rows": null,
            "right": null,
            "justify_content": null,
            "_view_module": "@jupyter-widgets/base",
            "overflow": null,
            "_model_module_version": "1.2.0",
            "_view_count": null,
            "flex_flow": null,
            "width": null,
            "min_width": null,
            "border": null,
            "align_items": null,
            "bottom": null,
            "_model_module": "@jupyter-widgets/base",
            "top": null,
            "grid_column": null,
            "overflow_y": null,
            "overflow_x": null,
            "grid_auto_flow": null,
            "grid_area": null,
            "grid_template_columns": null,
            "flex": null,
            "_model_name": "LayoutModel",
            "justify_items": null,
            "grid_row": null,
            "max_height": null,
            "align_content": null,
            "visibility": null,
            "align_self": null,
            "height": null,
            "min_height": null,
            "padding": null,
            "grid_auto_rows": null,
            "grid_gap": null,
            "max_width": null,
            "order": null,
            "_view_module_version": "1.2.0",
            "grid_template_areas": null,
            "object_position": null,
            "object_fit": null,
            "grid_auto_columns": null,
            "margin": null,
            "display": null,
            "left": null
          }
        },
        "1da2bc6d6b434e8bac9189416b0291da": {
          "model_module": "@jupyter-widgets/controls",
          "model_name": "LabelModel",
          "model_module_version": "1.5.0",
          "state": {
            "_view_name": "LabelView",
            "style": "IPY_MODEL_8adbab87007c4688be482025c29aa471",
            "_dom_classes": [],
            "description": "",
            "_model_name": "LabelModel",
            "placeholder": "​",
            "_view_module": "@jupyter-widgets/controls",
            "_model_module_version": "1.5.0",
            "value": "Select your bear!",
            "_view_count": null,
            "_view_module_version": "1.5.0",
            "description_tooltip": null,
            "_model_module": "@jupyter-widgets/controls",
            "layout": "IPY_MODEL_26e770be61744e628d331ff192f9709f"
          }
        },
        "264705d87f5a445989bac5234eab5884": {
          "model_module": "@jupyter-widgets/controls",
          "model_name": "FileUploadModel",
          "model_module_version": "1.5.0",
          "state": {
            "_view_name": "FileUploadView",
            "_counter": 5,
            "style": "IPY_MODEL_3ea29e35e3c54881948af4ac1f025c3f",
            "_dom_classes": [],
            "description": "Upload",
            "multiple": false,
            "_model_name": "FileUploadModel",
            "data": [
              null
            ],
            "button_style": "",
            "_view_module": "@jupyter-widgets/controls",
            "_model_module_version": "1.5.0",
            "accept": "",
            "_view_count": null,
            "disabled": false,
            "_view_module_version": "1.5.0",
            "error": "",
            "description_tooltip": null,
            "metadata": [
              {
                "name": "tedy001.jpeg",
                "type": "image/jpeg",
                "size": 5822,
                "lastModified": 1643418020171
              }
            ],
            "_model_module": "@jupyter-widgets/controls",
            "layout": "IPY_MODEL_122d9ae4edd44c07a71dc68e8aeef510",
            "icon": "upload"
          }
        },
        "8adbab87007c4688be482025c29aa471": {
          "model_module": "@jupyter-widgets/controls",
          "model_name": "DescriptionStyleModel",
          "model_module_version": "1.5.0",
          "state": {
            "_view_name": "StyleView",
            "_model_name": "DescriptionStyleModel",
            "description_width": "",
            "_view_module": "@jupyter-widgets/base",
            "_model_module_version": "1.5.0",
            "_view_count": null,
            "_view_module_version": "1.2.0",
            "_model_module": "@jupyter-widgets/controls"
          }
        },
        "26e770be61744e628d331ff192f9709f": {
          "model_module": "@jupyter-widgets/base",
          "model_name": "LayoutModel",
          "model_module_version": "1.2.0",
          "state": {
            "_view_name": "LayoutView",
            "grid_template_rows": null,
            "right": null,
            "justify_content": null,
            "_view_module": "@jupyter-widgets/base",
            "overflow": null,
            "_model_module_version": "1.2.0",
            "_view_count": null,
            "flex_flow": null,
            "width": null,
            "min_width": null,
            "border": null,
            "align_items": null,
            "bottom": null,
            "_model_module": "@jupyter-widgets/base",
            "top": null,
            "grid_column": null,
            "overflow_y": null,
            "overflow_x": null,
            "grid_auto_flow": null,
            "grid_area": null,
            "grid_template_columns": null,
            "flex": null,
            "_model_name": "LayoutModel",
            "justify_items": null,
            "grid_row": null,
            "max_height": null,
            "align_content": null,
            "visibility": null,
            "align_self": null,
            "height": null,
            "min_height": null,
            "padding": null,
            "grid_auto_rows": null,
            "grid_gap": null,
            "max_width": null,
            "order": null,
            "_view_module_version": "1.2.0",
            "grid_template_areas": null,
            "object_position": null,
            "object_fit": null,
            "grid_auto_columns": null,
            "margin": null,
            "display": null,
            "left": null
          }
        },
        "3ea29e35e3c54881948af4ac1f025c3f": {
          "model_module": "@jupyter-widgets/controls",
          "model_name": "ButtonStyleModel",
          "model_module_version": "1.5.0",
          "state": {
            "_view_name": "StyleView",
            "_model_name": "ButtonStyleModel",
            "_view_module": "@jupyter-widgets/base",
            "_model_module_version": "1.5.0",
            "_view_count": null,
            "button_color": null,
            "font_weight": "",
            "_view_module_version": "1.2.0",
            "_model_module": "@jupyter-widgets/controls"
          }
        },
        "122d9ae4edd44c07a71dc68e8aeef510": {
          "model_module": "@jupyter-widgets/base",
          "model_name": "LayoutModel",
          "model_module_version": "1.2.0",
          "state": {
            "_view_name": "LayoutView",
            "grid_template_rows": null,
            "right": null,
            "justify_content": null,
            "_view_module": "@jupyter-widgets/base",
            "overflow": null,
            "_model_module_version": "1.2.0",
            "_view_count": null,
            "flex_flow": null,
            "width": null,
            "min_width": null,
            "border": null,
            "align_items": null,
            "bottom": null,
            "_model_module": "@jupyter-widgets/base",
            "top": null,
            "grid_column": null,
            "overflow_y": null,
            "overflow_x": null,
            "grid_auto_flow": null,
            "grid_area": null,
            "grid_template_columns": null,
            "flex": null,
            "_model_name": "LayoutModel",
            "justify_items": null,
            "grid_row": null,
            "max_height": null,
            "align_content": null,
            "visibility": null,
            "align_self": null,
            "height": null,
            "min_height": null,
            "padding": null,
            "grid_auto_rows": null,
            "grid_gap": null,
            "max_width": null,
            "order": null,
            "_view_module_version": "1.2.0",
            "grid_template_areas": null,
            "object_position": null,
            "object_fit": null,
            "grid_auto_columns": null,
            "margin": null,
            "display": null,
            "left": null
          }
        }
      }
    }
  },
  "cells": [
    {
      "cell_type": "markdown",
      "metadata": {
        "id": "view-in-github",
        "colab_type": "text"
      },
      "source": [
        "<a href=\"https://colab.research.google.com/github/dkalan-pi/Test/blob/main/BearClassifier_29JAN.ipynb\" target=\"_parent\"><img src=\"https://colab.research.google.com/assets/colab-badge.svg\" alt=\"Open In Colab\"/></a>"
      ]
    },
    {
      "cell_type": "code",
      "metadata": {
        "colab": {
          "base_uri": "https://localhost:8080/"
        },
        "id": "RM-uoJ6ACMko",
        "outputId": "e64b113f-a7fd-4a61-fe55-9055f98128df"
      },
      "source": [
        "#hide\n",
        "!pip install -Uqq fastbook\n",
        "import fastbook\n",
        "fastbook.setup_book()"
      ],
      "execution_count": 1,
      "outputs": [
        {
          "output_type": "stream",
          "name": "stdout",
          "text": [
            "\u001b[?25l\r\u001b[K     |▌                               | 10 kB 31.3 MB/s eta 0:00:01\r\u001b[K     |█                               | 20 kB 38.4 MB/s eta 0:00:01\r\u001b[K     |█▍                              | 30 kB 37.9 MB/s eta 0:00:01\r\u001b[K     |█▉                              | 40 kB 40.4 MB/s eta 0:00:01\r\u001b[K     |██▎                             | 51 kB 29.0 MB/s eta 0:00:01\r\u001b[K     |██▊                             | 61 kB 23.2 MB/s eta 0:00:01\r\u001b[K     |███▏                            | 71 kB 22.1 MB/s eta 0:00:01\r\u001b[K     |███▋                            | 81 kB 23.3 MB/s eta 0:00:01\r\u001b[K     |████                            | 92 kB 25.0 MB/s eta 0:00:01\r\u001b[K     |████▌                           | 102 kB 26.6 MB/s eta 0:00:01\r\u001b[K     |█████                           | 112 kB 26.6 MB/s eta 0:00:01\r\u001b[K     |█████▌                          | 122 kB 26.6 MB/s eta 0:00:01\r\u001b[K     |██████                          | 133 kB 26.6 MB/s eta 0:00:01\r\u001b[K     |██████▍                         | 143 kB 26.6 MB/s eta 0:00:01\r\u001b[K     |██████▉                         | 153 kB 26.6 MB/s eta 0:00:01\r\u001b[K     |███████▎                        | 163 kB 26.6 MB/s eta 0:00:01\r\u001b[K     |███████▊                        | 174 kB 26.6 MB/s eta 0:00:01\r\u001b[K     |████████▏                       | 184 kB 26.6 MB/s eta 0:00:01\r\u001b[K     |████████▋                       | 194 kB 26.6 MB/s eta 0:00:01\r\u001b[K     |█████████                       | 204 kB 26.6 MB/s eta 0:00:01\r\u001b[K     |█████████▋                      | 215 kB 26.6 MB/s eta 0:00:01\r\u001b[K     |██████████                      | 225 kB 26.6 MB/s eta 0:00:01\r\u001b[K     |██████████▌                     | 235 kB 26.6 MB/s eta 0:00:01\r\u001b[K     |███████████                     | 245 kB 26.6 MB/s eta 0:00:01\r\u001b[K     |███████████▍                    | 256 kB 26.6 MB/s eta 0:00:01\r\u001b[K     |███████████▉                    | 266 kB 26.6 MB/s eta 0:00:01\r\u001b[K     |████████████▎                   | 276 kB 26.6 MB/s eta 0:00:01\r\u001b[K     |████████████▊                   | 286 kB 26.6 MB/s eta 0:00:01\r\u001b[K     |█████████████▏                  | 296 kB 26.6 MB/s eta 0:00:01\r\u001b[K     |█████████████▋                  | 307 kB 26.6 MB/s eta 0:00:01\r\u001b[K     |██████████████                  | 317 kB 26.6 MB/s eta 0:00:01\r\u001b[K     |██████████████▋                 | 327 kB 26.6 MB/s eta 0:00:01\r\u001b[K     |███████████████                 | 337 kB 26.6 MB/s eta 0:00:01\r\u001b[K     |███████████████▌                | 348 kB 26.6 MB/s eta 0:00:01\r\u001b[K     |████████████████                | 358 kB 26.6 MB/s eta 0:00:01\r\u001b[K     |████████████████▍               | 368 kB 26.6 MB/s eta 0:00:01\r\u001b[K     |████████████████▉               | 378 kB 26.6 MB/s eta 0:00:01\r\u001b[K     |█████████████████▎              | 389 kB 26.6 MB/s eta 0:00:01\r\u001b[K     |█████████████████▊              | 399 kB 26.6 MB/s eta 0:00:01\r\u001b[K     |██████████████████▏             | 409 kB 26.6 MB/s eta 0:00:01\r\u001b[K     |██████████████████▋             | 419 kB 26.6 MB/s eta 0:00:01\r\u001b[K     |███████████████████▏            | 430 kB 26.6 MB/s eta 0:00:01\r\u001b[K     |███████████████████▋            | 440 kB 26.6 MB/s eta 0:00:01\r\u001b[K     |████████████████████            | 450 kB 26.6 MB/s eta 0:00:01\r\u001b[K     |████████████████████▌           | 460 kB 26.6 MB/s eta 0:00:01\r\u001b[K     |█████████████████████           | 471 kB 26.6 MB/s eta 0:00:01\r\u001b[K     |█████████████████████▍          | 481 kB 26.6 MB/s eta 0:00:01\r\u001b[K     |█████████████████████▉          | 491 kB 26.6 MB/s eta 0:00:01\r\u001b[K     |██████████████████████▎         | 501 kB 26.6 MB/s eta 0:00:01\r\u001b[K     |██████████████████████▊         | 512 kB 26.6 MB/s eta 0:00:01\r\u001b[K     |███████████████████████▏        | 522 kB 26.6 MB/s eta 0:00:01\r\u001b[K     |███████████████████████▋        | 532 kB 26.6 MB/s eta 0:00:01\r\u001b[K     |████████████████████████▏       | 542 kB 26.6 MB/s eta 0:00:01\r\u001b[K     |████████████████████████▋       | 552 kB 26.6 MB/s eta 0:00:01\r\u001b[K     |█████████████████████████       | 563 kB 26.6 MB/s eta 0:00:01\r\u001b[K     |█████████████████████████▌      | 573 kB 26.6 MB/s eta 0:00:01\r\u001b[K     |██████████████████████████      | 583 kB 26.6 MB/s eta 0:00:01\r\u001b[K     |██████████████████████████▍     | 593 kB 26.6 MB/s eta 0:00:01\r\u001b[K     |██████████████████████████▉     | 604 kB 26.6 MB/s eta 0:00:01\r\u001b[K     |███████████████████████████▎    | 614 kB 26.6 MB/s eta 0:00:01\r\u001b[K     |███████████████████████████▊    | 624 kB 26.6 MB/s eta 0:00:01\r\u001b[K     |████████████████████████████▏   | 634 kB 26.6 MB/s eta 0:00:01\r\u001b[K     |████████████████████████████▊   | 645 kB 26.6 MB/s eta 0:00:01\r\u001b[K     |█████████████████████████████▏  | 655 kB 26.6 MB/s eta 0:00:01\r\u001b[K     |█████████████████████████████▋  | 665 kB 26.6 MB/s eta 0:00:01\r\u001b[K     |██████████████████████████████  | 675 kB 26.6 MB/s eta 0:00:01\r\u001b[K     |██████████████████████████████▌ | 686 kB 26.6 MB/s eta 0:00:01\r\u001b[K     |███████████████████████████████ | 696 kB 26.6 MB/s eta 0:00:01\r\u001b[K     |███████████████████████████████▍| 706 kB 26.6 MB/s eta 0:00:01\r\u001b[K     |███████████████████████████████▉| 716 kB 26.6 MB/s eta 0:00:01\r\u001b[K     |████████████████████████████████| 720 kB 26.6 MB/s \n",
            "\u001b[K     |████████████████████████████████| 189 kB 56.5 MB/s \n",
            "\u001b[K     |████████████████████████████████| 1.2 MB 65.5 MB/s \n",
            "\u001b[K     |████████████████████████████████| 46 kB 6.3 MB/s \n",
            "\u001b[K     |████████████████████████████████| 56 kB 6.8 MB/s \n",
            "\u001b[K     |████████████████████████████████| 51 kB 483 kB/s \n",
            "\u001b[?25hMounted at /content/gdrive\n"
          ]
        }
      ]
    },
    {
      "cell_type": "code",
      "metadata": {
        "id": "nYHPc8xOD_zu"
      },
      "source": [
        "from fastbook import *\n",
        "from fastai.vision.widgets import *"
      ],
      "execution_count": 28,
      "outputs": []
    },
    {
      "cell_type": "code",
      "metadata": {
        "id": "CIFfAQvZIlR4",
        "colab": {
          "base_uri": "https://localhost:8080/"
        },
        "outputId": "b8ada674-94cc-4654-e6c3-a9c5bc0576af"
      },
      "source": [
        "!cd /content/gdrive/MyDrive/\n",
        "#!ls -ltr\n",
        "#!cd gdrive/\n",
        "#Path()\n",
        "#!whoami\n",
        "!pwd\n"
      ],
      "execution_count": 41,
      "outputs": [
        {
          "output_type": "stream",
          "name": "stdout",
          "text": [
            "sudo: cd: command not found\n",
            "/content\n"
          ]
        }
      ]
    },
    {
      "cell_type": "code",
      "metadata": {
        "id": "VtO9Smj8EG86"
      },
      "source": [
        "#path = Path()\n",
        "#path\n",
        "#path.ls(file_exts='.pkl')"
      ],
      "execution_count": 39,
      "outputs": []
    },
    {
      "cell_type": "code",
      "metadata": {
        "id": "Im59GE8j8Qqy"
      },
      "source": [
        "#cd gdrive/\n"
      ],
      "execution_count": null,
      "outputs": []
    },
    {
      "cell_type": "code",
      "metadata": {
        "id": "a9Ue3s2lgBL8"
      },
      "source": [
        "learn_inf = load_learner('/content/gdrive/MyDrive/export.pkl')"
      ],
      "execution_count": 42,
      "outputs": []
    },
    {
      "cell_type": "code",
      "metadata": {
        "id": "yPWuJ9IqgBL8"
      },
      "source": [
        "#learn_inf.predict('/content/tedy001.jpeg')"
      ],
      "execution_count": 57,
      "outputs": []
    },
    {
      "cell_type": "code",
      "metadata": {
        "id": "qnHdCMNgGp_T"
      },
      "source": [
        "#ls -ltr\n"
      ],
      "execution_count": null,
      "outputs": []
    },
    {
      "cell_type": "code",
      "metadata": {
        "id": "O516SaFAgBL9",
        "colab": {
          "base_uri": "https://localhost:8080/"
        },
        "outputId": "bf3d2794-0a27-4196-e092-2fb7d1b69340"
      },
      "source": [
        "learn_inf.dls.vocab"
      ],
      "execution_count": 58,
      "outputs": [
        {
          "output_type": "execute_result",
          "data": {
            "text/plain": [
              "['black', 'grizzly', 'teddy']"
            ]
          },
          "metadata": {},
          "execution_count": 58
        }
      ]
    },
    {
      "cell_type": "code",
      "metadata": {
        "id": "FJgVIg4zgBL_",
        "colab": {
          "base_uri": "https://localhost:8080/",
          "height": 49,
          "referenced_widgets": [
            "11399dd0e99749f8a3d0db0fc13930a0",
            "c2479c4bb2db4051ab58deefab435648",
            "07b782d0eb824bf1ad4e4437a21a6b80"
          ]
        },
        "outputId": "e57b0d9f-2d3a-4487-e176-de9a7c9b98b4"
      },
      "source": [
        "#hide_output\n",
        "btn_upload = widgets.FileUpload()\n",
        "btn_upload"
      ],
      "execution_count": 74,
      "outputs": [
        {
          "output_type": "display_data",
          "data": {
            "application/vnd.jupyter.widget-view+json": {
              "model_id": "11399dd0e99749f8a3d0db0fc13930a0",
              "version_minor": 0,
              "version_major": 2
            },
            "text/plain": [
              "FileUpload(value={}, description='Upload')"
            ]
          },
          "metadata": {}
        }
      ]
    },
    {
      "cell_type": "code",
      "metadata": {
        "id": "oYLrExYmEHww",
        "colab": {
          "base_uri": "https://localhost:8080/"
        },
        "outputId": "ea3d8331-5429-4afc-95ff-9856aa3a2e7d"
      },
      "source": [
        "cp tedy001.jpeg /content/"
      ],
      "execution_count": 62,
      "outputs": [
        {
          "output_type": "stream",
          "name": "stdout",
          "text": [
            "cp: cannot stat 'tedy001.jpeg': No such file or directory\n"
          ]
        }
      ]
    },
    {
      "cell_type": "code",
      "metadata": {
        "hide_input": true,
        "id": "wHAOCzgYgBL_"
      },
      "source": [
        "#hide\n",
        "# For the book, we can't actually click an upload button, so we fake it\n",
        "btn_upload = SimpleNamespace(data = ['tedy001.jpeg'])"
      ],
      "execution_count": 63,
      "outputs": []
    },
    {
      "cell_type": "code",
      "metadata": {
        "id": "l-CezSy8gBMA"
      },
      "source": [
        "img = PILImage.create(btn_upload.data[-1])"
      ],
      "execution_count": 75,
      "outputs": []
    },
    {
      "cell_type": "code",
      "metadata": {
        "id": "uBNyFle2gBMA",
        "colab": {
          "base_uri": "https://localhost:8080/",
          "height": 145,
          "referenced_widgets": [
            "b147a30e4e8c46059b551362cc0bc420",
            "77278507f7614c83b58aa96591cb9100"
          ]
        },
        "outputId": "32338716-f96f-40ff-87d6-e3ee45cf7f39"
      },
      "source": [
        "#hide_output\n",
        "out_pl = widgets.Output()\n",
        "out_pl.clear_output()\n",
        "with out_pl: display(img.to_thumb(128,128))\n",
        "out_pl"
      ],
      "execution_count": 76,
      "outputs": [
        {
          "output_type": "display_data",
          "data": {
            "application/vnd.jupyter.widget-view+json": {
              "model_id": "b147a30e4e8c46059b551362cc0bc420",
              "version_minor": 0,
              "version_major": 2
            },
            "text/plain": [
              "Output()"
            ]
          },
          "metadata": {}
        }
      ]
    },
    {
      "cell_type": "code",
      "metadata": {
        "id": "OEUKz5AegBMB",
        "colab": {
          "base_uri": "https://localhost:8080/",
          "height": 17
        },
        "outputId": "705b1c1d-dcf8-4275-dc24-b577dc500b62"
      },
      "source": [
        "pred,pred_idx,probs = learn_inf.predict(img)"
      ],
      "execution_count": 77,
      "outputs": [
        {
          "output_type": "display_data",
          "data": {
            "text/html": [
              ""
            ],
            "text/plain": [
              "<IPython.core.display.HTML object>"
            ]
          },
          "metadata": {}
        }
      ]
    },
    {
      "cell_type": "code",
      "metadata": {
        "id": "1iH248zOgBMB",
        "colab": {
          "base_uri": "https://localhost:8080/",
          "height": 49,
          "referenced_widgets": [
            "5344bbe208844e4eb7a123cdd38fd3bd",
            "f0f1d4f62dc547b1803a2d3dcec12f91",
            "434d149d6c904f2da192dc79d02214dd"
          ]
        },
        "outputId": "4dcc80ca-8a65-4ef0-e3e5-373be76cec15"
      },
      "source": [
        "#hide_output\n",
        "lbl_pred = widgets.Label()\n",
        "lbl_pred.value = f'Prediction: {pred}; Probability: {probs[pred_idx]:.04f}'\n",
        "lbl_pred"
      ],
      "execution_count": 78,
      "outputs": [
        {
          "output_type": "display_data",
          "data": {
            "application/vnd.jupyter.widget-view+json": {
              "model_id": "5344bbe208844e4eb7a123cdd38fd3bd",
              "version_minor": 0,
              "version_major": 2
            },
            "text/plain": [
              "Label(value='Prediction: teddy; Probability: 0.4919')"
            ]
          },
          "metadata": {}
        }
      ]
    },
    {
      "cell_type": "code",
      "metadata": {
        "id": "Lf7lZ0OQgBMC",
        "colab": {
          "base_uri": "https://localhost:8080/",
          "height": 49,
          "referenced_widgets": [
            "80b7e35f5edf46d59458f582e3385e5c",
            "5400b839469f4669b573f22397b55849",
            "000ad94d3f7644dbaead79ba3e97d4f6"
          ]
        },
        "outputId": "7c0ec843-091d-4e8a-bc96-14f913dfaa7b"
      },
      "source": [
        "#hide_output\n",
        "btn_run = widgets.Button(description='Classify')\n",
        "btn_run"
      ],
      "execution_count": 79,
      "outputs": [
        {
          "output_type": "display_data",
          "data": {
            "application/vnd.jupyter.widget-view+json": {
              "model_id": "80b7e35f5edf46d59458f582e3385e5c",
              "version_minor": 0,
              "version_major": 2
            },
            "text/plain": [
              "Button(description='Classify', style=ButtonStyle())"
            ]
          },
          "metadata": {}
        }
      ]
    },
    {
      "cell_type": "code",
      "metadata": {
        "id": "-WwxYNgwgBMC"
      },
      "source": [
        "def on_click_classify(change):\n",
        "    img = PILImage.create(btn_upload.data[-1])\n",
        "    out_pl.clear_output()\n",
        "    with out_pl: display(img.to_thumb(128,128))\n",
        "    pred,pred_idx,probs = learn_inf.predict(img)\n",
        "    lbl_pred.value = f'Prediction: {pred}; Probability: {probs[pred_idx]:.04f}'\n",
        "\n",
        "btn_run.on_click(on_click_classify)"
      ],
      "execution_count": 80,
      "outputs": []
    },
    {
      "cell_type": "code",
      "metadata": {
        "id": "cf23-AwigBMD"
      },
      "source": [
        "#hide\n",
        "#Putting back btn_upload to a widget for next cell\n",
        "btn_upload = widgets.FileUpload()"
      ],
      "execution_count": 81,
      "outputs": []
    },
    {
      "cell_type": "code",
      "metadata": {
        "id": "VNEcRNLZgBMD",
        "colab": {
          "base_uri": "https://localhost:8080/",
          "height": 273,
          "referenced_widgets": [
            "41d1f9583bc54443a724c9b3ce4cb229",
            "da944a1d610b4316bea295eae9fee8e6",
            "1da2bc6d6b434e8bac9189416b0291da",
            "264705d87f5a445989bac5234eab5884",
            "80b7e35f5edf46d59458f582e3385e5c",
            "b147a30e4e8c46059b551362cc0bc420",
            "5344bbe208844e4eb7a123cdd38fd3bd",
            "8adbab87007c4688be482025c29aa471",
            "26e770be61744e628d331ff192f9709f",
            "3ea29e35e3c54881948af4ac1f025c3f",
            "122d9ae4edd44c07a71dc68e8aeef510",
            "5400b839469f4669b573f22397b55849",
            "000ad94d3f7644dbaead79ba3e97d4f6",
            "f0f1d4f62dc547b1803a2d3dcec12f91",
            "434d149d6c904f2da192dc79d02214dd",
            "77278507f7614c83b58aa96591cb9100"
          ]
        },
        "outputId": "2ed44025-d4b7-4031-9220-0a2eeff02a5b"
      },
      "source": [
        "#hide_output\n",
        "VBox([widgets.Label('Select your bear!'), \n",
        "      btn_upload, btn_run, out_pl, lbl_pred])"
      ],
      "execution_count": 82,
      "outputs": [
        {
          "output_type": "display_data",
          "data": {
            "application/vnd.jupyter.widget-view+json": {
              "model_id": "41d1f9583bc54443a724c9b3ce4cb229",
              "version_minor": 0,
              "version_major": 2
            },
            "text/plain": [
              "VBox(children=(Label(value='Select your bear!'), FileUpload(value={}, description='Upload'), Button(descriptio…"
            ]
          },
          "metadata": {}
        },
        {
          "output_type": "display_data",
          "data": {
            "text/html": [
              ""
            ],
            "text/plain": [
              "<IPython.core.display.HTML object>"
            ]
          },
          "metadata": {}
        },
        {
          "output_type": "display_data",
          "data": {
            "text/html": [
              ""
            ],
            "text/plain": [
              "<IPython.core.display.HTML object>"
            ]
          },
          "metadata": {}
        },
        {
          "output_type": "display_data",
          "data": {
            "text/html": [
              ""
            ],
            "text/plain": [
              "<IPython.core.display.HTML object>"
            ]
          },
          "metadata": {}
        },
        {
          "output_type": "display_data",
          "data": {
            "text/html": [
              ""
            ],
            "text/plain": [
              "<IPython.core.display.HTML object>"
            ]
          },
          "metadata": {}
        },
        {
          "output_type": "display_data",
          "data": {
            "text/html": [
              ""
            ],
            "text/plain": [
              "<IPython.core.display.HTML object>"
            ]
          },
          "metadata": {}
        }
      ]
    }
  ]
}