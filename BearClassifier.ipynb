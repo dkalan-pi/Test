{
  "nbformat": 4,
  "nbformat_minor": 0,
  "metadata": {
    "colab": {
      "name": "BearClassifier.ipynb",
      "provenance": [],
      "collapsed_sections": []
    },
    "kernelspec": {
      "name": "python3",
      "display_name": "Python 3"
    },
    "language_info": {
      "name": "python"
    },
    "widgets": {
      "application/vnd.jupyter.widget-state+json": {
        "9e6ce1087dae4674b3b548df3fa72601": {
          "model_module": "@jupyter-widgets/controls",
          "model_name": "FileUploadModel",
          "state": {
            "_view_name": "FileUploadView",
            "_counter": 0,
            "style": "IPY_MODEL_f4908333ee3d4245b03d16bf2428028b",
            "_dom_classes": [],
            "description": "Upload",
            "multiple": false,
            "_model_name": "FileUploadModel",
            "data": [],
            "button_style": "",
            "_view_module": "@jupyter-widgets/controls",
            "_model_module_version": "1.5.0",
            "accept": "",
            "_view_count": null,
            "disabled": false,
            "_view_module_version": "1.5.0",
            "error": "",
            "description_tooltip": null,
            "metadata": [],
            "_model_module": "@jupyter-widgets/controls",
            "layout": "IPY_MODEL_f53566dade994b3cbc7eaca58eadf694",
            "icon": "upload"
          }
        },
        "f4908333ee3d4245b03d16bf2428028b": {
          "model_module": "@jupyter-widgets/controls",
          "model_name": "ButtonStyleModel",
          "state": {
            "_view_name": "StyleView",
            "_model_name": "ButtonStyleModel",
            "_view_module": "@jupyter-widgets/base",
            "_model_module_version": "1.5.0",
            "_view_count": null,
            "button_color": null,
            "font_weight": "",
            "_view_module_version": "1.2.0",
            "_model_module": "@jupyter-widgets/controls"
          }
        },
        "f53566dade994b3cbc7eaca58eadf694": {
          "model_module": "@jupyter-widgets/base",
          "model_name": "LayoutModel",
          "state": {
            "_view_name": "LayoutView",
            "grid_template_rows": null,
            "right": null,
            "justify_content": null,
            "_view_module": "@jupyter-widgets/base",
            "overflow": null,
            "_model_module_version": "1.2.0",
            "_view_count": null,
            "flex_flow": null,
            "width": null,
            "min_width": null,
            "border": null,
            "align_items": null,
            "bottom": null,
            "_model_module": "@jupyter-widgets/base",
            "top": null,
            "grid_column": null,
            "overflow_y": null,
            "overflow_x": null,
            "grid_auto_flow": null,
            "grid_area": null,
            "grid_template_columns": null,
            "flex": null,
            "_model_name": "LayoutModel",
            "justify_items": null,
            "grid_row": null,
            "max_height": null,
            "align_content": null,
            "visibility": null,
            "align_self": null,
            "height": null,
            "min_height": null,
            "padding": null,
            "grid_auto_rows": null,
            "grid_gap": null,
            "max_width": null,
            "order": null,
            "_view_module_version": "1.2.0",
            "grid_template_areas": null,
            "object_position": null,
            "object_fit": null,
            "grid_auto_columns": null,
            "margin": null,
            "display": null,
            "left": null
          }
        },
        "1063778466d84a9782c4b9659e71332e": {
          "model_module": "@jupyter-widgets/output",
          "model_name": "OutputModel",
          "state": {
            "_view_name": "OutputView",
            "msg_id": "",
            "_dom_classes": [],
            "_model_name": "OutputModel",
            "outputs": [
              {
                "output_type": "display_data",
                "metadata": {
                  "tags": []
                },
                "image/png": "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\n",
                "text/plain": "<PIL.Image.Image image mode=RGB size=99x128 at 0x7FB6034D6810>"
              }
            ],
            "_view_module": "@jupyter-widgets/output",
            "_model_module_version": "1.0.0",
            "_view_count": null,
            "_view_module_version": "1.0.0",
            "layout": "IPY_MODEL_c3dd6374fa394112b1163e9d51b14fbc",
            "_model_module": "@jupyter-widgets/output"
          }
        },
        "c3dd6374fa394112b1163e9d51b14fbc": {
          "model_module": "@jupyter-widgets/base",
          "model_name": "LayoutModel",
          "state": {
            "_view_name": "LayoutView",
            "grid_template_rows": null,
            "right": null,
            "justify_content": null,
            "_view_module": "@jupyter-widgets/base",
            "overflow": null,
            "_model_module_version": "1.2.0",
            "_view_count": null,
            "flex_flow": null,
            "width": null,
            "min_width": null,
            "border": null,
            "align_items": null,
            "bottom": null,
            "_model_module": "@jupyter-widgets/base",
            "top": null,
            "grid_column": null,
            "overflow_y": null,
            "overflow_x": null,
            "grid_auto_flow": null,
            "grid_area": null,
            "grid_template_columns": null,
            "flex": null,
            "_model_name": "LayoutModel",
            "justify_items": null,
            "grid_row": null,
            "max_height": null,
            "align_content": null,
            "visibility": null,
            "align_self": null,
            "height": null,
            "min_height": null,
            "padding": null,
            "grid_auto_rows": null,
            "grid_gap": null,
            "max_width": null,
            "order": null,
            "_view_module_version": "1.2.0",
            "grid_template_areas": null,
            "object_position": null,
            "object_fit": null,
            "grid_auto_columns": null,
            "margin": null,
            "display": null,
            "left": null
          }
        },
        "391f7ead55fe4d9db7a6dcf632043e5c": {
          "model_module": "@jupyter-widgets/controls",
          "model_name": "LabelModel",
          "state": {
            "_view_name": "LabelView",
            "style": "IPY_MODEL_4c0ea37363de4d93bdceaad7d066edba",
            "_dom_classes": [],
            "description": "",
            "_model_name": "LabelModel",
            "placeholder": "​",
            "_view_module": "@jupyter-widgets/controls",
            "_model_module_version": "1.5.0",
            "value": "Prediction: grizzly; Probability: 0.9248",
            "_view_count": null,
            "_view_module_version": "1.5.0",
            "description_tooltip": null,
            "_model_module": "@jupyter-widgets/controls",
            "layout": "IPY_MODEL_ec3f87ed059a48e7b36b27651fefaa33"
          }
        },
        "4c0ea37363de4d93bdceaad7d066edba": {
          "model_module": "@jupyter-widgets/controls",
          "model_name": "DescriptionStyleModel",
          "state": {
            "_view_name": "StyleView",
            "_model_name": "DescriptionStyleModel",
            "description_width": "",
            "_view_module": "@jupyter-widgets/base",
            "_model_module_version": "1.5.0",
            "_view_count": null,
            "_view_module_version": "1.2.0",
            "_model_module": "@jupyter-widgets/controls"
          }
        },
        "ec3f87ed059a48e7b36b27651fefaa33": {
          "model_module": "@jupyter-widgets/base",
          "model_name": "LayoutModel",
          "state": {
            "_view_name": "LayoutView",
            "grid_template_rows": null,
            "right": null,
            "justify_content": null,
            "_view_module": "@jupyter-widgets/base",
            "overflow": null,
            "_model_module_version": "1.2.0",
            "_view_count": null,
            "flex_flow": null,
            "width": null,
            "min_width": null,
            "border": null,
            "align_items": null,
            "bottom": null,
            "_model_module": "@jupyter-widgets/base",
            "top": null,
            "grid_column": null,
            "overflow_y": null,
            "overflow_x": null,
            "grid_auto_flow": null,
            "grid_area": null,
            "grid_template_columns": null,
            "flex": null,
            "_model_name": "LayoutModel",
            "justify_items": null,
            "grid_row": null,
            "max_height": null,
            "align_content": null,
            "visibility": null,
            "align_self": null,
            "height": null,
            "min_height": null,
            "padding": null,
            "grid_auto_rows": null,
            "grid_gap": null,
            "max_width": null,
            "order": null,
            "_view_module_version": "1.2.0",
            "grid_template_areas": null,
            "object_position": null,
            "object_fit": null,
            "grid_auto_columns": null,
            "margin": null,
            "display": null,
            "left": null
          }
        },
        "7eb052739ad5410582733db7ef7ecf62": {
          "model_module": "@jupyter-widgets/controls",
          "model_name": "ButtonModel",
          "state": {
            "_view_name": "ButtonView",
            "style": "IPY_MODEL_af8c616aef34481998d9eff86180f453",
            "_dom_classes": [],
            "description": "Classify",
            "_model_name": "ButtonModel",
            "button_style": "",
            "_view_module": "@jupyter-widgets/controls",
            "_model_module_version": "1.5.0",
            "tooltip": "",
            "_view_count": null,
            "disabled": false,
            "_view_module_version": "1.5.0",
            "layout": "IPY_MODEL_414caddedbf541b48b14a205c13e96a0",
            "_model_module": "@jupyter-widgets/controls",
            "icon": ""
          }
        },
        "af8c616aef34481998d9eff86180f453": {
          "model_module": "@jupyter-widgets/controls",
          "model_name": "ButtonStyleModel",
          "state": {
            "_view_name": "StyleView",
            "_model_name": "ButtonStyleModel",
            "_view_module": "@jupyter-widgets/base",
            "_model_module_version": "1.5.0",
            "_view_count": null,
            "button_color": null,
            "font_weight": "",
            "_view_module_version": "1.2.0",
            "_model_module": "@jupyter-widgets/controls"
          }
        },
        "414caddedbf541b48b14a205c13e96a0": {
          "model_module": "@jupyter-widgets/base",
          "model_name": "LayoutModel",
          "state": {
            "_view_name": "LayoutView",
            "grid_template_rows": null,
            "right": null,
            "justify_content": null,
            "_view_module": "@jupyter-widgets/base",
            "overflow": null,
            "_model_module_version": "1.2.0",
            "_view_count": null,
            "flex_flow": null,
            "width": null,
            "min_width": null,
            "border": null,
            "align_items": null,
            "bottom": null,
            "_model_module": "@jupyter-widgets/base",
            "top": null,
            "grid_column": null,
            "overflow_y": null,
            "overflow_x": null,
            "grid_auto_flow": null,
            "grid_area": null,
            "grid_template_columns": null,
            "flex": null,
            "_model_name": "LayoutModel",
            "justify_items": null,
            "grid_row": null,
            "max_height": null,
            "align_content": null,
            "visibility": null,
            "align_self": null,
            "height": null,
            "min_height": null,
            "padding": null,
            "grid_auto_rows": null,
            "grid_gap": null,
            "max_width": null,
            "order": null,
            "_view_module_version": "1.2.0",
            "grid_template_areas": null,
            "object_position": null,
            "object_fit": null,
            "grid_auto_columns": null,
            "margin": null,
            "display": null,
            "left": null
          }
        },
        "336be1b23ebf42f89ce969aea0c80ce5": {
          "model_module": "@jupyter-widgets/controls",
          "model_name": "VBoxModel",
          "state": {
            "_view_name": "VBoxView",
            "_dom_classes": [],
            "_model_name": "VBoxModel",
            "_view_module": "@jupyter-widgets/controls",
            "_model_module_version": "1.5.0",
            "_view_count": null,
            "_view_module_version": "1.5.0",
            "box_style": "",
            "layout": "IPY_MODEL_92de7ef9728f456792f0371fdec42d12",
            "_model_module": "@jupyter-widgets/controls",
            "children": [
              "IPY_MODEL_4a266138f7c042308e8a40e2151af317",
              "IPY_MODEL_1ec8eef1efa7472a9ec2166d4694efe3",
              "IPY_MODEL_7eb052739ad5410582733db7ef7ecf62",
              "IPY_MODEL_1063778466d84a9782c4b9659e71332e",
              "IPY_MODEL_391f7ead55fe4d9db7a6dcf632043e5c"
            ]
          }
        },
        "92de7ef9728f456792f0371fdec42d12": {
          "model_module": "@jupyter-widgets/base",
          "model_name": "LayoutModel",
          "state": {
            "_view_name": "LayoutView",
            "grid_template_rows": null,
            "right": null,
            "justify_content": null,
            "_view_module": "@jupyter-widgets/base",
            "overflow": null,
            "_model_module_version": "1.2.0",
            "_view_count": null,
            "flex_flow": null,
            "width": null,
            "min_width": null,
            "border": null,
            "align_items": null,
            "bottom": null,
            "_model_module": "@jupyter-widgets/base",
            "top": null,
            "grid_column": null,
            "overflow_y": null,
            "overflow_x": null,
            "grid_auto_flow": null,
            "grid_area": null,
            "grid_template_columns": null,
            "flex": null,
            "_model_name": "LayoutModel",
            "justify_items": null,
            "grid_row": null,
            "max_height": null,
            "align_content": null,
            "visibility": null,
            "align_self": null,
            "height": null,
            "min_height": null,
            "padding": null,
            "grid_auto_rows": null,
            "grid_gap": null,
            "max_width": null,
            "order": null,
            "_view_module_version": "1.2.0",
            "grid_template_areas": null,
            "object_position": null,
            "object_fit": null,
            "grid_auto_columns": null,
            "margin": null,
            "display": null,
            "left": null
          }
        },
        "4a266138f7c042308e8a40e2151af317": {
          "model_module": "@jupyter-widgets/controls",
          "model_name": "LabelModel",
          "state": {
            "_view_name": "LabelView",
            "style": "IPY_MODEL_1d270c48730d43a78911a13fd6339bdd",
            "_dom_classes": [],
            "description": "",
            "_model_name": "LabelModel",
            "placeholder": "​",
            "_view_module": "@jupyter-widgets/controls",
            "_model_module_version": "1.5.0",
            "value": "Select your bear!",
            "_view_count": null,
            "_view_module_version": "1.5.0",
            "description_tooltip": null,
            "_model_module": "@jupyter-widgets/controls",
            "layout": "IPY_MODEL_a60353e531e84d1fa63706c76d670f2a"
          }
        },
        "1ec8eef1efa7472a9ec2166d4694efe3": {
          "model_module": "@jupyter-widgets/controls",
          "model_name": "FileUploadModel",
          "state": {
            "_view_name": "FileUploadView",
            "_counter": 7,
            "style": "IPY_MODEL_22c0803ae9ab4faeb80f4c6b64917f8e",
            "_dom_classes": [],
            "description": "Upload",
            "multiple": false,
            "_model_name": "FileUploadModel",
            "data": [
              null
            ],
            "button_style": "",
            "_view_module": "@jupyter-widgets/controls",
            "_model_module_version": "1.5.0",
            "accept": "",
            "_view_count": null,
            "disabled": false,
            "_view_module_version": "1.5.0",
            "error": "",
            "description_tooltip": null,
            "metadata": [
              {
                "name": "download.jpeg",
                "type": "image/jpeg",
                "size": 8130,
                "lastModified": 1626446400000
              }
            ],
            "_model_module": "@jupyter-widgets/controls",
            "layout": "IPY_MODEL_cd249f326ef94233a2a219055a6c9389",
            "icon": "upload"
          }
        },
        "1d270c48730d43a78911a13fd6339bdd": {
          "model_module": "@jupyter-widgets/controls",
          "model_name": "DescriptionStyleModel",
          "state": {
            "_view_name": "StyleView",
            "_model_name": "DescriptionStyleModel",
            "description_width": "",
            "_view_module": "@jupyter-widgets/base",
            "_model_module_version": "1.5.0",
            "_view_count": null,
            "_view_module_version": "1.2.0",
            "_model_module": "@jupyter-widgets/controls"
          }
        },
        "a60353e531e84d1fa63706c76d670f2a": {
          "model_module": "@jupyter-widgets/base",
          "model_name": "LayoutModel",
          "state": {
            "_view_name": "LayoutView",
            "grid_template_rows": null,
            "right": null,
            "justify_content": null,
            "_view_module": "@jupyter-widgets/base",
            "overflow": null,
            "_model_module_version": "1.2.0",
            "_view_count": null,
            "flex_flow": null,
            "width": null,
            "min_width": null,
            "border": null,
            "align_items": null,
            "bottom": null,
            "_model_module": "@jupyter-widgets/base",
            "top": null,
            "grid_column": null,
            "overflow_y": null,
            "overflow_x": null,
            "grid_auto_flow": null,
            "grid_area": null,
            "grid_template_columns": null,
            "flex": null,
            "_model_name": "LayoutModel",
            "justify_items": null,
            "grid_row": null,
            "max_height": null,
            "align_content": null,
            "visibility": null,
            "align_self": null,
            "height": null,
            "min_height": null,
            "padding": null,
            "grid_auto_rows": null,
            "grid_gap": null,
            "max_width": null,
            "order": null,
            "_view_module_version": "1.2.0",
            "grid_template_areas": null,
            "object_position": null,
            "object_fit": null,
            "grid_auto_columns": null,
            "margin": null,
            "display": null,
            "left": null
          }
        },
        "22c0803ae9ab4faeb80f4c6b64917f8e": {
          "model_module": "@jupyter-widgets/controls",
          "model_name": "ButtonStyleModel",
          "state": {
            "_view_name": "StyleView",
            "_model_name": "ButtonStyleModel",
            "_view_module": "@jupyter-widgets/base",
            "_model_module_version": "1.5.0",
            "_view_count": null,
            "button_color": null,
            "font_weight": "",
            "_view_module_version": "1.2.0",
            "_model_module": "@jupyter-widgets/controls"
          }
        },
        "cd249f326ef94233a2a219055a6c9389": {
          "model_module": "@jupyter-widgets/base",
          "model_name": "LayoutModel",
          "state": {
            "_view_name": "LayoutView",
            "grid_template_rows": null,
            "right": null,
            "justify_content": null,
            "_view_module": "@jupyter-widgets/base",
            "overflow": null,
            "_model_module_version": "1.2.0",
            "_view_count": null,
            "flex_flow": null,
            "width": null,
            "min_width": null,
            "border": null,
            "align_items": null,
            "bottom": null,
            "_model_module": "@jupyter-widgets/base",
            "top": null,
            "grid_column": null,
            "overflow_y": null,
            "overflow_x": null,
            "grid_auto_flow": null,
            "grid_area": null,
            "grid_template_columns": null,
            "flex": null,
            "_model_name": "LayoutModel",
            "justify_items": null,
            "grid_row": null,
            "max_height": null,
            "align_content": null,
            "visibility": null,
            "align_self": null,
            "height": null,
            "min_height": null,
            "padding": null,
            "grid_auto_rows": null,
            "grid_gap": null,
            "max_width": null,
            "order": null,
            "_view_module_version": "1.2.0",
            "grid_template_areas": null,
            "object_position": null,
            "object_fit": null,
            "grid_auto_columns": null,
            "margin": null,
            "display": null,
            "left": null
          }
        }
      }
    }
  },
  "cells": [
    {
      "cell_type": "markdown",
      "metadata": {
        "id": "view-in-github"
      },
      "source": [
        "<a href=\"https://colab.research.google.com/github/dkalan-pi/Test/blob/main/BearClassifier.ipynb\" target=\"_parent\"><img src=\"https://colab.research.google.com/assets/colab-badge.svg\" alt=\"Open In Colab\"/></a>"
      ]
    },
    {
      "cell_type": "code",
      "metadata": {
        "colab": {
          "base_uri": "https://localhost:8080/"
        },
        "id": "RM-uoJ6ACMko",
        "outputId": "7db905fd-f27b-47ea-c50b-cb816a07378b"
      },
      "source": [
        "#hide\n",
        "!pip install -Uqq fastbook\n",
        "import fastbook\n",
        "fastbook.setup_book()"
      ],
      "execution_count": null,
      "outputs": [
        {
          "output_type": "stream",
          "text": [
            "\u001b[K     |████████████████████████████████| 727kB 8.2MB/s \n",
            "\u001b[K     |████████████████████████████████| 1.2MB 30.5MB/s \n",
            "\u001b[K     |████████████████████████████████| 194kB 45.8MB/s \n",
            "\u001b[K     |████████████████████████████████| 51kB 6.4MB/s \n",
            "\u001b[K     |████████████████████████████████| 61kB 8.1MB/s \n",
            "\u001b[K     |████████████████████████████████| 61kB 8.7MB/s \n",
            "\u001b[?25hMounted at /content/gdrive\n"
          ],
          "name": "stdout"
        }
      ]
    },
    {
      "cell_type": "code",
      "metadata": {
        "id": "nYHPc8xOD_zu"
      },
      "source": [
        "from fastbook import *\n",
        "from fastai.vision.widgets import *"
      ],
      "execution_count": null,
      "outputs": []
    },
    {
      "cell_type": "code",
      "metadata": {
        "colab": {
          "base_uri": "https://localhost:8080/"
        },
        "id": "CIFfAQvZIlR4",
        "outputId": "cb0903da-3882-469b-b59f-eed8cee43c89"
      },
      "source": [
        "cd gdrive/\n"
      ],
      "execution_count": null,
      "outputs": [
        {
          "output_type": "stream",
          "text": [
            "/content/gdrive\n"
          ],
          "name": "stdout"
        }
      ]
    },
    {
      "cell_type": "code",
      "metadata": {
        "colab": {
          "base_uri": "https://localhost:8080/"
        },
        "id": "6hQQUOzXtenq",
        "outputId": "5d49bdeb-a360-4585-ea97-352b1443e822"
      },
      "source": [
        "ls -ltr"
      ],
      "execution_count": null,
      "outputs": [
        {
          "output_type": "stream",
          "text": [
            "total 4\n",
            "drwx------ 5 root root 4096 Jul 16 14:24 \u001b[0m\u001b[01;34mMyDrive\u001b[0m/\n"
          ],
          "name": "stdout"
        }
      ]
    },
    {
      "cell_type": "code",
      "metadata": {
        "colab": {
          "base_uri": "https://localhost:8080/"
        },
        "id": "epLsnP7ftg15",
        "outputId": "7e8c6174-e3f6-42f8-a3f0-c878e0b00564"
      },
      "source": [
        "ls -ltr\n"
      ],
      "execution_count": null,
      "outputs": [
        {
          "output_type": "stream",
          "text": [
            "total 135013\n",
            "-rw------- 1 root root   245925 May 14  2019  Macbeth_by_William_Shakespeare.mobi\n",
            "-rw------- 1 root root 79102255 Apr 21  2020 'Elegoo Super Starter Kit for UNO V2.0.2020.3.27.zip'\n",
            "drwx------ 2 root root     4096 Jun 12  2020  \u001b[0m\u001b[01;34mOpenCV\u001b[0m/\n",
            "drwx------ 2 root root     4096 Jul 15  2020  \u001b[01;34mRpi\u001b[0m/\n",
            "-rw------- 1 root root      150 Aug  4  2020  ListZip.py\n",
            "-rw------- 1 root root 11927637 Sep  5  2020 'ISLR Seventh Printing.pdf'\n",
            "drwx------ 2 root root     4096 Sep 12  2020 \u001b[01;34m'Colab Notebooks'\u001b[0m/\n",
            "-rw------- 1 root root 46962977 Jul 15 22:32  export.pkl\n"
          ],
          "name": "stdout"
        }
      ]
    },
    {
      "cell_type": "code",
      "metadata": {
        "id": "L0MrZ8twtx5o"
      },
      "source": [
        "cp export.pkl /content/"
      ],
      "execution_count": null,
      "outputs": []
    },
    {
      "cell_type": "code",
      "metadata": {
        "colab": {
          "base_uri": "https://localhost:8080/"
        },
        "id": "VtO9Smj8EG86",
        "outputId": "d2638a66-6a14-42dd-aff0-5ec7e7a459e1"
      },
      "source": [
        "path = Path()\n",
        "path\n",
        "path.ls(file_exts='.pkl')"
      ],
      "execution_count": null,
      "outputs": [
        {
          "output_type": "execute_result",
          "data": {
            "text/plain": [
              "(#1) [Path('export.pkl')]"
            ]
          },
          "metadata": {
            "tags": []
          },
          "execution_count": 12
        }
      ]
    },
    {
      "cell_type": "code",
      "metadata": {
        "id": "a9Ue3s2lgBL8"
      },
      "source": [
        "learn_inf = load_learner(path/'export.pkl')"
      ],
      "execution_count": null,
      "outputs": []
    },
    {
      "cell_type": "code",
      "metadata": {
        "id": "yPWuJ9IqgBL8",
        "colab": {
          "base_uri": "https://localhost:8080/",
          "height": 34
        },
        "outputId": "6050c9b8-6952-43a0-9fad-c431df3a21b1"
      },
      "source": [
        "learn_inf.predict('/content/tedy001.jpeg')"
      ],
      "execution_count": null,
      "outputs": [
        {
          "output_type": "display_data",
          "data": {
            "text/html": [
              ""
            ],
            "text/plain": [
              "<IPython.core.display.HTML object>"
            ]
          },
          "metadata": {
            "tags": []
          }
        },
        {
          "output_type": "execute_result",
          "data": {
            "text/plain": [
              "('teddy', tensor(2), tensor([1.0944e-06, 1.7299e-06, 1.0000e+00]))"
            ]
          },
          "metadata": {
            "tags": []
          },
          "execution_count": 44
        }
      ]
    },
    {
      "cell_type": "code",
      "metadata": {
        "colab": {
          "base_uri": "https://localhost:8080/"
        },
        "id": "qnHdCMNgGp_T",
        "outputId": "044842ca-d2bd-4829-a86a-cc5bdbcc99cc"
      },
      "source": [
        "ls -ltr\n"
      ],
      "execution_count": null,
      "outputs": [
        {
          "output_type": "stream",
          "text": [
            "total 45880\n",
            "drwxr-xr-x 1 root root     4096 Jul  1 13:42 \u001b[0m\u001b[01;34msample_data\u001b[0m/\n",
            "drwx------ 5 root root     4096 Jul 16 14:24 \u001b[01;34mgdrive\u001b[0m/\n",
            "-rw------- 1 root root 46962977 Jul 16 14:28 export.pkl\n",
            "-rw------- 1 root root     5822 Jul 16 14:34 tedy001.jpeg\n"
          ],
          "name": "stdout"
        }
      ]
    },
    {
      "cell_type": "code",
      "metadata": {
        "id": "O516SaFAgBL9",
        "colab": {
          "base_uri": "https://localhost:8080/"
        },
        "outputId": "8192ca10-7d42-4302-a4f2-292e087c4ce0"
      },
      "source": [
        "learn_inf.dls.vocab"
      ],
      "execution_count": null,
      "outputs": [
        {
          "output_type": "execute_result",
          "data": {
            "text/plain": [
              "['black', 'grizzly', 'teddy']"
            ]
          },
          "metadata": {
            "tags": []
          },
          "execution_count": 46
        }
      ]
    },
    {
      "cell_type": "code",
      "metadata": {
        "id": "FJgVIg4zgBL_",
        "colab": {
          "base_uri": "https://localhost:8080/",
          "height": 49,
          "referenced_widgets": [
            "9e6ce1087dae4674b3b548df3fa72601",
            "f4908333ee3d4245b03d16bf2428028b",
            "f53566dade994b3cbc7eaca58eadf694"
          ]
        },
        "outputId": "9dced8a4-1ca1-40cc-8a94-dbc280c67870"
      },
      "source": [
        "#hide_output\n",
        "btn_upload = widgets.FileUpload()\n",
        "btn_upload"
      ],
      "execution_count": null,
      "outputs": [
        {
          "output_type": "display_data",
          "data": {
            "application/vnd.jupyter.widget-view+json": {
              "model_id": "9e6ce1087dae4674b3b548df3fa72601",
              "version_minor": 0,
              "version_major": 2
            },
            "text/plain": [
              "FileUpload(value={}, description='Upload')"
            ]
          },
          "metadata": {
            "tags": []
          }
        }
      ]
    },
    {
      "cell_type": "code",
      "metadata": {
        "colab": {
          "base_uri": "https://localhost:8080/"
        },
        "id": "oYLrExYmEHww",
        "outputId": "bc82aa24-0878-4952-bac2-8885fe2c094b"
      },
      "source": [
        "cp tedy001.jpeg /content/"
      ],
      "execution_count": null,
      "outputs": [
        {
          "output_type": "stream",
          "text": [
            "cp: 'tedy001.jpeg' and '/content/tedy001.jpeg' are the same file\n"
          ],
          "name": "stdout"
        }
      ]
    },
    {
      "cell_type": "code",
      "metadata": {
        "hide_input": true,
        "id": "wHAOCzgYgBL_"
      },
      "source": [
        "#hide\n",
        "# For the book, we can't actually click an upload button, so we fake it\n",
        "btn_upload = SimpleNamespace(data = ['/content/tedy001.jpeg'])"
      ],
      "execution_count": null,
      "outputs": []
    },
    {
      "cell_type": "code",
      "metadata": {
        "id": "l-CezSy8gBMA"
      },
      "source": [
        "img = PILImage.create(btn_upload.data[-1])"
      ],
      "execution_count": null,
      "outputs": []
    },
    {
      "cell_type": "code",
      "metadata": {
        "id": "uBNyFle2gBMA",
        "colab": {
          "base_uri": "https://localhost:8080/",
          "height": 145,
          "referenced_widgets": [
            "1063778466d84a9782c4b9659e71332e",
            "c3dd6374fa394112b1163e9d51b14fbc"
          ]
        },
        "outputId": "3a91a085-ecfe-4e97-85a3-48a629fb660d"
      },
      "source": [
        "#hide_output\n",
        "out_pl = widgets.Output()\n",
        "out_pl.clear_output()\n",
        "with out_pl: display(img.to_thumb(128,128))\n",
        "out_pl"
      ],
      "execution_count": null,
      "outputs": [
        {
          "output_type": "display_data",
          "data": {
            "application/vnd.jupyter.widget-view+json": {
              "model_id": "1063778466d84a9782c4b9659e71332e",
              "version_minor": 0,
              "version_major": 2
            },
            "text/plain": [
              "Output()"
            ]
          },
          "metadata": {
            "tags": []
          }
        }
      ]
    },
    {
      "cell_type": "code",
      "metadata": {
        "id": "OEUKz5AegBMB",
        "colab": {
          "base_uri": "https://localhost:8080/",
          "height": 17
        },
        "outputId": "2fa13fc0-e25c-417e-d497-19e77133163b"
      },
      "source": [
        "pred,pred_idx,probs = learn_inf.predict(img)"
      ],
      "execution_count": null,
      "outputs": [
        {
          "output_type": "display_data",
          "data": {
            "text/html": [
              ""
            ],
            "text/plain": [
              "<IPython.core.display.HTML object>"
            ]
          },
          "metadata": {
            "tags": []
          }
        }
      ]
    },
    {
      "cell_type": "code",
      "metadata": {
        "id": "1iH248zOgBMB",
        "colab": {
          "base_uri": "https://localhost:8080/",
          "height": 49,
          "referenced_widgets": [
            "391f7ead55fe4d9db7a6dcf632043e5c",
            "4c0ea37363de4d93bdceaad7d066edba",
            "ec3f87ed059a48e7b36b27651fefaa33"
          ]
        },
        "outputId": "fccc4041-3e1e-4d3f-a7f0-c2e16e476876"
      },
      "source": [
        "#hide_output\n",
        "lbl_pred = widgets.Label()\n",
        "lbl_pred.value = f'Prediction: {pred}; Probability: {probs[pred_idx]:.04f}'\n",
        "lbl_pred"
      ],
      "execution_count": null,
      "outputs": [
        {
          "output_type": "display_data",
          "data": {
            "application/vnd.jupyter.widget-view+json": {
              "model_id": "391f7ead55fe4d9db7a6dcf632043e5c",
              "version_minor": 0,
              "version_major": 2
            },
            "text/plain": [
              "Label(value='Prediction: teddy; Probability: 1.0000')"
            ]
          },
          "metadata": {
            "tags": []
          }
        }
      ]
    },
    {
      "cell_type": "code",
      "metadata": {
        "id": "Lf7lZ0OQgBMC",
        "colab": {
          "base_uri": "https://localhost:8080/",
          "height": 49,
          "referenced_widgets": [
            "7eb052739ad5410582733db7ef7ecf62",
            "af8c616aef34481998d9eff86180f453",
            "414caddedbf541b48b14a205c13e96a0"
          ]
        },
        "outputId": "708d5ca0-8a57-4157-f0b6-87e626273f2b"
      },
      "source": [
        "#hide_output\n",
        "btn_run = widgets.Button(description='Classify')\n",
        "btn_run"
      ],
      "execution_count": null,
      "outputs": [
        {
          "output_type": "display_data",
          "data": {
            "application/vnd.jupyter.widget-view+json": {
              "model_id": "7eb052739ad5410582733db7ef7ecf62",
              "version_minor": 0,
              "version_major": 2
            },
            "text/plain": [
              "Button(description='Classify', style=ButtonStyle())"
            ]
          },
          "metadata": {
            "tags": []
          }
        }
      ]
    },
    {
      "cell_type": "code",
      "metadata": {
        "id": "-WwxYNgwgBMC"
      },
      "source": [
        "def on_click_classify(change):\n",
        "    img = PILImage.create(btn_upload.data[-1])\n",
        "    out_pl.clear_output()\n",
        "    with out_pl: display(img.to_thumb(128,128))\n",
        "    pred,pred_idx,probs = learn_inf.predict(img)\n",
        "    lbl_pred.value = f'Prediction: {pred}; Probability: {probs[pred_idx]:.04f}'\n",
        "\n",
        "btn_run.on_click(on_click_classify)"
      ],
      "execution_count": null,
      "outputs": []
    },
    {
      "cell_type": "code",
      "metadata": {
        "id": "cf23-AwigBMD"
      },
      "source": [
        "#hide\n",
        "#Putting back btn_upload to a widget for next cell\n",
        "btn_upload = widgets.FileUpload()"
      ],
      "execution_count": null,
      "outputs": []
    },
    {
      "cell_type": "code",
      "metadata": {
        "id": "VNEcRNLZgBMD",
        "colab": {
          "base_uri": "https://localhost:8080/",
          "height": 273,
          "referenced_widgets": [
            "336be1b23ebf42f89ce969aea0c80ce5",
            "92de7ef9728f456792f0371fdec42d12",
            "4a266138f7c042308e8a40e2151af317",
            "1ec8eef1efa7472a9ec2166d4694efe3",
            "7eb052739ad5410582733db7ef7ecf62",
            "1063778466d84a9782c4b9659e71332e",
            "391f7ead55fe4d9db7a6dcf632043e5c",
            "1d270c48730d43a78911a13fd6339bdd",
            "a60353e531e84d1fa63706c76d670f2a",
            "22c0803ae9ab4faeb80f4c6b64917f8e",
            "cd249f326ef94233a2a219055a6c9389",
            "af8c616aef34481998d9eff86180f453",
            "414caddedbf541b48b14a205c13e96a0",
            "4c0ea37363de4d93bdceaad7d066edba",
            "ec3f87ed059a48e7b36b27651fefaa33",
            "c3dd6374fa394112b1163e9d51b14fbc"
          ]
        },
        "outputId": "aeec688b-eba2-48f2-bdd1-4d2ecf9b3aed"
      },
      "source": [
        "#hide_output\n",
        "VBox([widgets.Label('Select your bear!'), \n",
        "      btn_upload, btn_run, out_pl, lbl_pred])"
      ],
      "execution_count": null,
      "outputs": [
        {
          "output_type": "display_data",
          "data": {
            "application/vnd.jupyter.widget-view+json": {
              "model_id": "336be1b23ebf42f89ce969aea0c80ce5",
              "version_minor": 0,
              "version_major": 2
            },
            "text/plain": [
              "VBox(children=(Label(value='Select your bear!'), FileUpload(value={'polar.jpeg': {'metadata': {'lastModified':…"
            ]
          },
          "metadata": {
            "tags": []
          }
        },
        {
          "output_type": "display_data",
          "data": {
            "text/html": [
              ""
            ],
            "text/plain": [
              "<IPython.core.display.HTML object>"
            ]
          },
          "metadata": {
            "tags": []
          }
        },
        {
          "output_type": "display_data",
          "data": {
            "text/html": [
              ""
            ],
            "text/plain": [
              "<IPython.core.display.HTML object>"
            ]
          },
          "metadata": {
            "tags": []
          }
        }
      ]
    }
  ]
}